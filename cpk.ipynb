{
 "cells": [
  {
   "cell_type": "code",
   "execution_count": 2,
   "metadata": {},
   "outputs": [],
   "source": [
    "import pandas as pd\n",
    "import numpy as np\n",
    "import plotly.graph_objects as go\n",
    "import plotly.express as px\n",
    "import wecorules as weco\n",
    "from datetime import datetime"
   ]
  },
  {
   "cell_type": "code",
   "execution_count": 3,
   "metadata": {},
   "outputs": [],
   "source": [
    "data = pd.read_csv(\"C:\\\\Users\\\\Sampreeth Salveru\\\\Downloads\\\\AG_Discrete_DS06-Jul-2020.csv\")\n",
    "excel = pd.read_excel(\"C:\\\\Users\\\\Sampreeth Salveru\\\\Downloads\\\\riskQA.xlsx\",index_col=\"Quality Attributes\")\n",
    "data['Date'] = pd.to_datetime(data['PSDate'])\n",
    "data['Date'] = data.Date.dt.strftime('%Y-%m-%d')\n",
    "filter_col = [col for col in data if col.startswith(('Drug','Load'))]"
   ]
  },
  {
   "cell_type": "code",
   "execution_count": 4,
   "metadata": {},
   "outputs": [
    {
     "name": "stdout",
     "output_type": "stream",
     "text": [
      "2015-04-10 | 2015-10-21\n",
      "2015-10-24 | 2017-03-24\n",
      "2017-03-26 | 2018-05-02\n",
      "2018-05-05 | 2019-04-13\n",
      "2019-04-16 | 2019-12-21\n"
     ]
    }
   ],
   "source": [
    "for i in range(len(np.array_split(data['DrugSubstance_Sodium'].dropna(), len(data['DrugSubstance_Sodium'].dropna()) // 30))):\n",
    "    x = np.array(np.array_split(data['DrugSubstance_Sodium'].dropna(), len(data['DrugSubstance_Sodium'].dropna()) // 30)[i])\n",
    "    search = np.array(np.array_split(data['DrugSubstance_Sodium'].dropna(), len(data['DrugSubstance_Sodium'].dropna()) // 30)[i].index)[0]\n",
    "    search1 = np.array(np.array_split(data['DrugSubstance_Sodium'].dropna(), len(data['DrugSubstance_Sodium'].dropna()) // 30)[i].index)[-1]\n",
    "    beg = data.Date[search]\n",
    "    end = data.Date[search1]\n",
    "    mn = np.mean(x)\n",
    "    std = np.std(x)\n",
    "    leng = len(x)\n",
    "#     print(mn,std)\n",
    "#     print(leng, mn, std)\n",
    "    print(beg+\" | \"+end)"
   ]
  },
  {
   "cell_type": "code",
   "execution_count": 5,
   "metadata": {},
   "outputs": [],
   "source": [
    "unwanted = {'DrugSubstance_Osmolality','DrugSubstance_Copper','DrugSubstance_DNA','DrugSubstance_MicrobialLoad','DrugSubstance_SECFluorescenceReg1','DrugSubstance_MouseIgG','DrugSubstance_OverallRecovery'\n",
    "           ,'DrugSubstance_SECFluorescenceReg2','DrugSubstance_ThrombinPepPeak2Area_','Load_LoadDensity'}\n",
    "item_list = [e for e in filter_col if e not in unwanted]"
   ]
  },
  {
   "cell_type": "code",
   "execution_count": 6,
   "metadata": {},
   "outputs": [
    {
     "data": {
      "text/plain": [
       "[array([1.51490787, 1.95892426, 1.70706663, 2.76158183]),\n",
       " array(['ppk', 'ppk', 'ppk', 'ppk'], dtype='<U32'),\n",
       " array(['2013-01-17', '2015-08-20', '2017-01-28', '2018-02-28'],\n",
       "       dtype='<U32'),\n",
       " array(['2015-08-15', '2017-01-25', '2018-02-24', '2018-07-25'],\n",
       "       dtype='<U32')]"
      ]
     },
     "execution_count": 6,
     "metadata": {},
     "output_type": "execute_result"
    }
   ],
   "source": [
    "\n",
    "def cpkppk(col):\n",
    "    mean = excel.loc[col,\"Mean\"]\n",
    "    ucl = excel.loc[col,\"UCL\"]\n",
    "    lcl = excel.loc[col,\"LCL\"]\n",
    "    usl = excel.loc[col,\"USL\"]\n",
    "    lsl = excel.loc[col,\"LSL\"]\n",
    "    units = excel.loc[col,\"Units\"]\n",
    "    count1 = len(weco.weco1(col, ucl, lcl))\n",
    "    count4 = len(weco.weco4(col, mean))\n",
    "    count5 = len(weco.weco5(col))\n",
    "    total_count = count1 + count4 + count5\n",
    "    if total_count > 0:\n",
    "        percent1 = count1/total_count\n",
    "    else:\n",
    "        percent1 = 0\n",
    "    work = np.array([])\n",
    "    work1 = np.array([])\n",
    "    begdate = np.array([])\n",
    "    enddate = np.array([])\n",
    "\n",
    "\n",
    "    for i in range(len(np.array_split(data[col].dropna(), len(data[col].dropna()) // 30))):\n",
    "        x = np.array(np.array_split(data[col].dropna(), len(data[col].dropna()) // 30)[i])\n",
    "        search = np.array(np.array_split(data[col].dropna(), len(data[col].dropna()) // 30)[i].index)[0]\n",
    "        search1 = np.array(np.array_split(data[col].dropna(), len(data[col].dropna()) // 30)[i].index)[-1]\n",
    "        beg = data.Date[search]\n",
    "        end = data.Date[search1]\n",
    "        begdate = np.append(begdate, beg)\n",
    "        enddate = np.append(enddate,end)\n",
    "        mn = np.mean(x)\n",
    "        std = np.std(x)\n",
    "        \n",
    "        if total_count == 0 and std > 0:\n",
    "            if np.isnan(usl) == False and np.isnan(lsl) == False:\n",
    "                cpkcalc = [(usl - mn)/(3*std), (mn-lsl)/(3*std)]\n",
    "                cpk = min(cpkcalc)\n",
    "                work = np.append(work, cpk)\n",
    "                work1 = np.append(work1, \"cpk\")\n",
    "            elif np.isnan(usl) == True:\n",
    "                cpk = (mn-lsl)/(3*std)\n",
    "                work = np.append(work, cpk)\n",
    "                work1 = np.append(work1, \"cpk\")\n",
    "            elif np.isnan(lsl) == True:\n",
    "                cpk = (usl-mn)/(3*std)\n",
    "                work = np.append(work, cpk)\n",
    "                work1 = np.append(work1, \"cpk\")\n",
    "        elif percent1 >= 0.02 and std > 0:\n",
    "            if np.isnan(usl) == False and np.isnan(lsl) == False:\n",
    "                ppkcalc = [(usl - mn)/(3*std), (mn-lsl)/(3*std)]\n",
    "                ppk = min(ppkcalc)\n",
    "                work = np.append(work, ppk)\n",
    "                work1 = np.append(work1, \"ppk\")\n",
    "            elif np.isnan(usl) == True:\n",
    "                ppk = (mn - lsl)/(3*std)\n",
    "                work = np.append(work, ppk)\n",
    "                work1 = np.append(work1, \"ppk\")                \n",
    "            elif np.isnan(lsl) == True:\n",
    "                ppk = (usl - mn)/(3*std)\n",
    "                work = np.append(work, ppk)\n",
    "                work1 = np.append(work1, \"ppk\")                \n",
    "        elif percent1 <= 0.02 and std > 0:\n",
    "            if np.isnan(usl) == False and np.isnan(lsl) == False:\n",
    "                cpkcalc = [(usl - mn)/(3*std), (mn-lsl)/(3*std)]\n",
    "                cpk = min(cpkcalc)\n",
    "                work = np.append(work, cpk)\n",
    "                work1 = np.append(work1, \"cpk\")\n",
    "            elif np.isnan(usl) == True:\n",
    "                cpk = (mn-lsl)/(3*std)\n",
    "                work = np.append(work, cpk)\n",
    "                work1 = np.append(work1, \"cpk\")                \n",
    "            elif np.isnan(lsl) == True:\n",
    "                cpk = (usl-mn)/(3*std)\n",
    "                work = np.append(work, cpk)\n",
    "                work1 = np.append(work1, \"cpk\")                \n",
    "    \n",
    "    return [work,work1,begdate,enddate]\n",
    "        \n",
    "\n",
    "cpkppk(col = 'DrugSubstance_HCP')\n",
    "\n"
   ]
  },
  {
   "cell_type": "code",
   "execution_count": 7,
   "metadata": {},
   "outputs": [],
   "source": [
    "df = pd.DataFrame(columns = [\"Parameter\",\"Calculation\",\"cpk/ppk\",\"Date Range Beg\",\"Date Range End\"])"
   ]
  },
  {
   "cell_type": "code",
   "execution_count": 8,
   "metadata": {},
   "outputs": [
    {
     "name": "stdout",
     "output_type": "stream",
     "text": [
      "['DrugSubstance_Calcium', 1.6321472306592462, 'ppk', '2013-01-17', '2015-08-05']\n",
      "['DrugSubstance_Calcium', 1.6580040215706662, 'ppk', '2015-08-08', '2016-12-15']\n",
      "['DrugSubstance_Calcium', 1.7116413281674425, 'ppk', '2016-12-16', '2017-06-28']\n",
      "['DrugSubstance_Calcium', 2.3073239925660265, 'ppk', '2017-07-01', '2018-06-02']\n",
      "['DrugSubstance_Calcium', 1.9688347499312087, 'ppk', '2018-06-06', '2019-04-20']\n",
      "['DrugSubstance_Calcium', 2.411681401974198, 'ppk', '2019-04-23', '2019-12-21']\n",
      "['DrugSubstance_Glycine', 1.0454037010101058, 'ppk', '2013-01-17', '2015-08-05']\n",
      "['DrugSubstance_Glycine', 0.510356964638127, 'ppk', '2015-08-08', '2016-12-15']\n",
      "['DrugSubstance_Glycine', 1.0401493891369993, 'ppk', '2016-12-16', '2017-06-28']\n",
      "['DrugSubstance_Glycine', 1.3269776053940743, 'ppk', '2017-07-01', '2018-06-02']\n",
      "['DrugSubstance_Glycine', 1.9917281772559898, 'ppk', '2018-06-06', '2019-04-23']\n",
      "['DrugSubstance_Glycine', 1.5811388300841898, 'ppk', '2019-04-25', '2019-12-21']\n",
      "['DrugSubstance_HCP', 1.5149078734615866, 'ppk', '2013-01-17', '2015-08-15']\n",
      "['DrugSubstance_HCP', 1.9589242570985934, 'ppk', '2015-08-20', '2017-01-25']\n",
      "['DrugSubstance_HCP', 1.7070666258787979, 'ppk', '2017-01-28', '2018-02-24']\n",
      "['DrugSubstance_HCP', 2.7615818341902525, 'ppk', '2018-02-28', '2018-07-25']\n",
      "['DrugSubstance_Histidine', 1.3543895542946363, 'ppk', '2013-01-17', '2015-08-05']\n",
      "['DrugSubstance_Histidine', 1.0833842071896773, 'ppk', '2015-08-08', '2016-12-15']\n",
      "['DrugSubstance_Histidine', 0.8240577495821494, 'ppk', '2016-12-16', '2017-06-28']\n",
      "['DrugSubstance_Histidine', 1.9669735958723849, 'ppk', '2017-07-01', '2018-06-02']\n",
      "['DrugSubstance_Histidine', 5.339794936295383, 'ppk', '2018-06-06', '2019-04-23']\n",
      "['DrugSubstance_Histidine', 2.4140393963016735, 'ppk', '2019-04-25', '2019-12-21']\n",
      "['DrugSubstance_Oligo_AsialylN_glycans', 1.3682262004665398, 'ppk', '2013-01-17', '2015-08-05']\n",
      "['DrugSubstance_Oligo_AsialylN_glycans', 0.6505965347529176, 'ppk', '2015-08-08', '2016-12-15']\n",
      "['DrugSubstance_Oligo_AsialylN_glycans', 1.279395483819484, 'ppk', '2016-12-16', '2017-06-28']\n",
      "['DrugSubstance_Oligo_AsialylN_glycans', 1.338204452461161, 'ppk', '2017-07-01', '2018-06-02']\n",
      "['DrugSubstance_Oligo_AsialylN_glycans', 2.224486207370138, 'ppk', '2018-06-06', '2019-04-23']\n",
      "['DrugSubstance_Oligo_AsialylN_glycans', 1.4059579559830533, 'ppk', '2019-04-25', '2019-12-21']\n",
      "['DrugSubstance_Oligo_di_sialylN_glycans', 1.5186306025841512, 'ppk', '2013-01-17', '2015-08-05']\n",
      "['DrugSubstance_Oligo_di_sialylN_glycans', 1.3719995698959182, 'ppk', '2015-08-08', '2016-12-15']\n",
      "['DrugSubstance_Oligo_di_sialylN_glycans', 1.3738343413344352, 'ppk', '2016-12-16', '2017-06-28']\n",
      "['DrugSubstance_Oligo_di_sialylN_glycans', 1.5394828085362944, 'ppk', '2017-07-01', '2018-06-02']\n",
      "['DrugSubstance_Oligo_di_sialylN_glycans', 1.3407849572159296, 'ppk', '2018-06-06', '2019-04-23']\n",
      "['DrugSubstance_Oligo_di_sialylN_glycans', 0.8057599193107395, 'ppk', '2019-04-25', '2019-12-21']\n",
      "['DrugSubstance_OligomapSialyationRatio', 2.707685845576541, 'ppk', '2015-04-10', '2015-10-21']\n",
      "['DrugSubstance_OligomapSialyationRatio', 4.120258802096163, 'ppk', '2015-10-24', '2017-03-24']\n",
      "['DrugSubstance_OligomapSialyationRatio', 3.9050144597727776, 'ppk', '2017-03-26', '2018-05-02']\n",
      "['DrugSubstance_OligomapSialyationRatio', 3.4649479591890775, 'ppk', '2018-05-05', '2019-04-13']\n",
      "['DrugSubstance_OligomapSialyationRatio', 3.602046675445073, 'ppk', '2019-04-16', '2019-12-21']\n",
      "['DrugSubstance_Oligo_mono_sialylN_glycans', 1.1043218656161882, 'ppk', '2013-01-17', '2015-08-05']\n",
      "['DrugSubstance_Oligo_mono_sialylN_glycans', 1.5933783809557096, 'ppk', '2015-08-08', '2016-12-15']\n",
      "['DrugSubstance_Oligo_mono_sialylN_glycans', 1.8628131576082532, 'ppk', '2016-12-16', '2017-06-28']\n",
      "['DrugSubstance_Oligo_mono_sialylN_glycans', 2.1459473854386166, 'ppk', '2017-07-01', '2018-06-02']\n",
      "['DrugSubstance_Oligo_mono_sialylN_glycans', 1.4756658662709545, 'ppk', '2018-06-06', '2019-04-23']\n",
      "['DrugSubstance_Oligo_mono_sialylN_glycans', 1.097604688847218, 'ppk', '2019-04-25', '2019-12-21']\n",
      "['DrugSubstance_Oligo_tetra_sialylN_glycans', 1.134757234524764, 'ppk', '2013-01-17', '2015-08-05']\n",
      "['DrugSubstance_Oligo_tetra_sialylN_glycans', 1.0536781914683346, 'ppk', '2015-08-08', '2016-12-15']\n",
      "['DrugSubstance_Oligo_tetra_sialylN_glycans', 1.2239825706820069, 'ppk', '2016-12-16', '2017-06-28']\n",
      "['DrugSubstance_Oligo_tetra_sialylN_glycans', 1.2192690237124248, 'ppk', '2017-07-01', '2018-06-02']\n",
      "['DrugSubstance_Oligo_tetra_sialylN_glycans', 1.5096406945390102, 'ppk', '2018-06-06', '2019-04-23']\n",
      "['DrugSubstance_Oligo_tetra_sialylN_glycans', 0.9510838664588647, 'ppk', '2019-04-25', '2019-12-21']\n",
      "['DrugSubstance_Oligo_tri_sialylN_glycans', 1.3290404484108624, 'ppk', '2013-01-17', '2015-08-05']\n",
      "['DrugSubstance_Oligo_tri_sialylN_glycans', 1.5487484649655514, 'ppk', '2015-08-08', '2016-12-15']\n",
      "['DrugSubstance_Oligo_tri_sialylN_glycans', 1.3921445803397627, 'ppk', '2016-12-16', '2017-06-28']\n",
      "['DrugSubstance_Oligo_tri_sialylN_glycans', 2.02768020762996, 'ppk', '2017-07-01', '2018-06-02']\n",
      "['DrugSubstance_Oligo_tri_sialylN_glycans', 0.9898674990650859, 'ppk', '2018-06-06', '2019-04-23']\n",
      "['DrugSubstance_Oligo_tri_sialylN_glycans', 0.6846800040835901, 'ppk', '2019-04-25', '2019-12-21']\n",
      "['DrugSubstance_pH', 0.8352152663013227, 'ppk', '2013-01-17', '2015-08-05']\n",
      "['DrugSubstance_pH', 0.9379533404160084, 'ppk', '2015-08-08', '2016-12-15']\n",
      "['DrugSubstance_pH', 0.5320049792574006, 'ppk', '2016-12-16', '2017-06-28']\n",
      "['DrugSubstance_pH', 0.5398153350899773, 'ppk', '2017-07-01', '2018-06-02']\n",
      "['DrugSubstance_pH', 0.8524826841213522, 'ppk', '2018-06-06', '2019-04-23']\n",
      "['DrugSubstance_pH', 1.8304172612897573, 'ppk', '2019-04-25', '2019-12-21']\n",
      "['DrugSubstance_Polysorbate80', 1.041822502511246, 'cpk', '2013-01-17', '2015-08-05']\n",
      "['DrugSubstance_Polysorbate80', 0.9074738177343445, 'cpk', '2015-08-08', '2016-12-15']\n",
      "['DrugSubstance_Polysorbate80', 1.1350646561983542, 'cpk', '2016-12-16', '2017-06-28']\n",
      "['DrugSubstance_Polysorbate80', 0.7677835358038338, 'cpk', '2017-07-01', '2018-06-02']\n",
      "['DrugSubstance_Polysorbate80', 0.9007282471918984, 'cpk', '2018-06-06', '2019-04-23']\n",
      "['DrugSubstance_Polysorbate80', 1.0231363828684568, 'cpk', '2019-04-25', '2019-12-21']\n",
      "['DrugSubstance_Potency', 1.4256165156995342, 'ppk', '2013-01-17', '2015-08-05']\n",
      "['DrugSubstance_Potency', 1.590304229948644, 'ppk', '2015-08-08', '2016-12-15']\n",
      "['DrugSubstance_Potency', 1.9791685433011306, 'ppk', '2016-12-16', '2017-06-28']\n",
      "['DrugSubstance_Potency', 1.6849757288806981, 'ppk', '2017-07-01', '2018-06-02']\n",
      "['DrugSubstance_Potency', 1.0455102146846966, 'ppk', '2018-06-06', '2019-04-23']\n",
      "['DrugSubstance_Potency', 1.562321142655799, 'ppk', '2019-04-25', '2019-12-21']\n",
      "['DrugSubstance_Purity', 1.2083890567375246, 'ppk', '2013-01-17', '2015-08-05']\n",
      "['DrugSubstance_Purity', 1.3919410907075054, 'ppk', '2015-08-08', '2016-12-15']\n",
      "['DrugSubstance_Purity', 1.7606816861659007, 'ppk', '2016-12-16', '2017-06-28']\n",
      "['DrugSubstance_Purity', 2.248456260538675, 'ppk', '2017-07-01', '2018-06-02']\n",
      "['DrugSubstance_Purity', 0.8681842899711191, 'ppk', '2018-06-06', '2019-04-23']\n",
      "['DrugSubstance_Purity', 2.1276949510364185, 'ppk', '2019-04-25', '2019-12-21']\n",
      "['DrugSubstance_SECFluorescenceReg3', 1.1585047329394402, 'cpk', '2013-01-17', '2015-08-05']\n",
      "['DrugSubstance_SECFluorescenceReg3', 0.9579646274927607, 'cpk', '2015-08-08', '2016-12-15']\n",
      "['DrugSubstance_SECFluorescenceReg3', 2.17862578360351, 'cpk', '2016-12-16', '2017-06-28']\n",
      "['DrugSubstance_SECFluorescenceReg3', 1.3553611961359144, 'cpk', '2017-07-01', '2018-06-02']\n",
      "['DrugSubstance_SECFluorescenceReg3', 1.9620759294526877, 'cpk', '2018-06-06', '2019-04-23']\n",
      "['DrugSubstance_SECFluorescenceReg3', 1.522352718958674, 'cpk', '2019-04-25', '2019-12-21']\n",
      "['DrugSubstance_SECFluorescenceReg4', 0.7491209712421086, 'ppk', '2013-01-17', '2015-08-05']\n",
      "['DrugSubstance_SECFluorescenceReg4', 0.7215524476239499, 'ppk', '2015-08-08', '2016-12-15']\n",
      "['DrugSubstance_SECFluorescenceReg4', 0.878158283631825, 'ppk', '2016-12-16', '2017-06-28']\n",
      "['DrugSubstance_SECFluorescenceReg4', 1.3815067933370544, 'ppk', '2017-07-01', '2018-06-02']\n",
      "['DrugSubstance_SECFluorescenceReg4', 1.41332778375468, 'ppk', '2018-06-06', '2019-04-23']\n"
     ]
    },
    {
     "name": "stdout",
     "output_type": "stream",
     "text": [
      "['DrugSubstance_SECFluorescenceReg4', 1.7868582950079948, 'ppk', '2019-04-25', '2019-12-21']\n",
      "['DrugSubstance_Sodium', 0.6304843875768761, 'ppk', '2015-04-10', '2015-10-21']\n",
      "['DrugSubstance_Sodium', 0.8693356158401709, 'ppk', '2015-10-24', '2017-03-24']\n",
      "['DrugSubstance_Sodium', 0.7816798229585444, 'ppk', '2017-03-26', '2018-05-02']\n",
      "['DrugSubstance_Sodium', 0.7961173386514133, 'ppk', '2018-05-05', '2019-04-13']\n",
      "['DrugSubstance_Sodium', 0.97669316537764, 'ppk', '2019-04-16', '2019-12-21']\n",
      "['DrugSubstance_SpecificActivity', 0.916964501641333, 'ppk', '2013-01-17', '2015-08-05']\n",
      "['DrugSubstance_SpecificActivity', 1.8201641446478845, 'ppk', '2015-08-08', '2016-12-15']\n",
      "['DrugSubstance_SpecificActivity', 1.1900988779500516, 'ppk', '2016-12-16', '2017-06-28']\n",
      "['DrugSubstance_SpecificActivity', 1.4363285595963071, 'ppk', '2017-07-01', '2018-06-02']\n",
      "['DrugSubstance_SpecificActivity', 0.91928328744244, 'ppk', '2018-06-06', '2019-04-23']\n",
      "['DrugSubstance_SpecificActivity', 1.2333521743507443, 'ppk', '2019-04-25', '2019-12-21']\n",
      "['DrugSubstance_Sucrose', 1.152723794305469, 'ppk', '2013-01-17', '2015-08-05']\n",
      "['DrugSubstance_Sucrose', 1.2570737321530359, 'ppk', '2015-08-08', '2016-12-15']\n",
      "['DrugSubstance_Sucrose', 0.9063664824791189, 'ppk', '2016-12-16', '2017-06-28']\n",
      "['DrugSubstance_Sucrose', 1.4530954842977415, 'ppk', '2017-07-01', '2018-06-02']\n",
      "['DrugSubstance_Sucrose', 1.6421160996654793, 'ppk', '2018-06-06', '2019-04-23']\n",
      "['DrugSubstance_Sucrose', 1.4470719035407646, 'ppk', '2019-04-25', '2019-12-21']\n",
      "['DrugSubstance_ThrombinPeptideMap_Peak2Area', 3.02172294639661, 'ppk', '2013-01-17', '2015-08-05']\n",
      "['DrugSubstance_ThrombinPeptideMap_Peak2Area', 3.1362478373767044, 'ppk', '2015-08-08', '2016-12-15']\n",
      "['DrugSubstance_ThrombinPeptideMap_Peak2Area', 3.4949913556078025, 'ppk', '2016-12-16', '2017-06-28']\n",
      "['DrugSubstance_ThrombinPeptideMap_Peak2Area', 8.459811796834492, 'ppk', '2017-07-01', '2018-06-02']\n",
      "['DrugSubstance_ThrombinPeptideMap_Peak2Area', 7.3357193749034355, 'ppk', '2018-06-06', '2019-04-23']\n",
      "['DrugSubstance_ThrombinPeptideMap_Peak2Area', 3.965002267604969, 'ppk', '2019-04-25', '2019-12-21']\n",
      "['DrugSubstance_TotalProtein', 1.3344445856251435, 'ppk', '2013-07-04', '2016-11-02']\n",
      "['DrugSubstance_TotalProtein', 1.6626754119235765, 'ppk', '2016-11-05', '2017-05-31']\n",
      "['DrugSubstance_TotalProtein', 1.6370668215589825, 'ppk', '2017-06-07', '2018-05-09']\n",
      "['DrugSubstance_TotalProtein', 1.1865699422587441, 'ppk', '2018-05-12', '2019-04-16']\n",
      "['DrugSubstance_TotalProtein', 0.9199307616632394, 'ppk', '2019-04-18', '2019-12-21']\n"
     ]
    }
   ],
   "source": [
    "blah = np.array([])\n",
    "blah1 = np.array([])\n",
    "blah2 = np.array([])\n",
    "blah3 = np.array([])\n",
    "blah4 = np.array([])\n",
    "\n",
    "for x in item_list:\n",
    "    for i in range(len(cpkppk(x)[0])):\n",
    "        print([x,cpkppk(x)[0][i],cpkppk(x)[1][i],cpkppk(x)[2][i],cpkppk(x)[3][i]])\n",
    "        blah = np.append(blah, x)\n",
    "        blah1 = np.append(blah1, cpkppk(x)[0][i])\n",
    "        blah2 = np.append(blah2, cpkppk(x)[1][i])\n",
    "        blah3 = np.append(blah3, cpkppk(x)[2][i])\n",
    "        blah4 = np.append(blah4, cpkppk(x)[3][i])"
   ]
  },
  {
   "cell_type": "code",
   "execution_count": 9,
   "metadata": {},
   "outputs": [],
   "source": [
    "dff = pd.DataFrame()\n",
    "dff[\"Parameter\"] = blah\n",
    "dff[\"Calculation\"]= blah1\n",
    "dff[\"cpk/ppk\"]= blah2\n",
    "dff[\"Date Range Beg\"]= blah3\n",
    "dff[\"Date Range End\"]= blah4"
   ]
  },
  {
   "cell_type": "code",
   "execution_count": 25,
   "metadata": {},
   "outputs": [
    {
     "data": {
      "text/html": [
       "<div>\n",
       "<style scoped>\n",
       "    .dataframe tbody tr th:only-of-type {\n",
       "        vertical-align: middle;\n",
       "    }\n",
       "\n",
       "    .dataframe tbody tr th {\n",
       "        vertical-align: top;\n",
       "    }\n",
       "\n",
       "    .dataframe thead th {\n",
       "        text-align: right;\n",
       "    }\n",
       "</style>\n",
       "<table border=\"1\" class=\"dataframe\">\n",
       "  <thead>\n",
       "    <tr style=\"text-align: right;\">\n",
       "      <th></th>\n",
       "      <th>Parameter</th>\n",
       "      <th>Calculation</th>\n",
       "      <th>cpk/ppk</th>\n",
       "      <th>Date Range Beg</th>\n",
       "      <th>Date Range End</th>\n",
       "      <th>Date</th>\n",
       "    </tr>\n",
       "  </thead>\n",
       "  <tbody>\n",
       "    <tr>\n",
       "      <th>0</th>\n",
       "      <td>DrugSubstance_Calcium</td>\n",
       "      <td>1.632147</td>\n",
       "      <td>ppk</td>\n",
       "      <td>2013-01-17</td>\n",
       "      <td>2015-08-05</td>\n",
       "      <td>2013-01-17 to 2015-08-05</td>\n",
       "    </tr>\n",
       "    <tr>\n",
       "      <th>1</th>\n",
       "      <td>DrugSubstance_Calcium</td>\n",
       "      <td>1.658004</td>\n",
       "      <td>ppk</td>\n",
       "      <td>2015-08-08</td>\n",
       "      <td>2016-12-15</td>\n",
       "      <td>2015-08-08 to 2016-12-15</td>\n",
       "    </tr>\n",
       "    <tr>\n",
       "      <th>2</th>\n",
       "      <td>DrugSubstance_Calcium</td>\n",
       "      <td>1.711641</td>\n",
       "      <td>ppk</td>\n",
       "      <td>2016-12-16</td>\n",
       "      <td>2017-06-28</td>\n",
       "      <td>2016-12-16 to 2017-06-28</td>\n",
       "    </tr>\n",
       "    <tr>\n",
       "      <th>3</th>\n",
       "      <td>DrugSubstance_Calcium</td>\n",
       "      <td>2.307324</td>\n",
       "      <td>ppk</td>\n",
       "      <td>2017-07-01</td>\n",
       "      <td>2018-06-02</td>\n",
       "      <td>2017-07-01 to 2018-06-02</td>\n",
       "    </tr>\n",
       "    <tr>\n",
       "      <th>4</th>\n",
       "      <td>DrugSubstance_Calcium</td>\n",
       "      <td>1.968835</td>\n",
       "      <td>ppk</td>\n",
       "      <td>2018-06-06</td>\n",
       "      <td>2019-04-20</td>\n",
       "      <td>2018-06-06 to 2019-04-20</td>\n",
       "    </tr>\n",
       "    <tr>\n",
       "      <th>...</th>\n",
       "      <td>...</td>\n",
       "      <td>...</td>\n",
       "      <td>...</td>\n",
       "      <td>...</td>\n",
       "      <td>...</td>\n",
       "      <td>...</td>\n",
       "    </tr>\n",
       "    <tr>\n",
       "      <th>116</th>\n",
       "      <td>DrugSubstance_TotalProtein</td>\n",
       "      <td>1.334445</td>\n",
       "      <td>ppk</td>\n",
       "      <td>2013-07-04</td>\n",
       "      <td>2016-11-02</td>\n",
       "      <td>2013-07-04 to 2016-11-02</td>\n",
       "    </tr>\n",
       "    <tr>\n",
       "      <th>117</th>\n",
       "      <td>DrugSubstance_TotalProtein</td>\n",
       "      <td>1.662675</td>\n",
       "      <td>ppk</td>\n",
       "      <td>2016-11-05</td>\n",
       "      <td>2017-05-31</td>\n",
       "      <td>2016-11-05 to 2017-05-31</td>\n",
       "    </tr>\n",
       "    <tr>\n",
       "      <th>118</th>\n",
       "      <td>DrugSubstance_TotalProtein</td>\n",
       "      <td>1.637067</td>\n",
       "      <td>ppk</td>\n",
       "      <td>2017-06-07</td>\n",
       "      <td>2018-05-09</td>\n",
       "      <td>2017-06-07 to 2018-05-09</td>\n",
       "    </tr>\n",
       "    <tr>\n",
       "      <th>119</th>\n",
       "      <td>DrugSubstance_TotalProtein</td>\n",
       "      <td>1.186570</td>\n",
       "      <td>ppk</td>\n",
       "      <td>2018-05-12</td>\n",
       "      <td>2019-04-16</td>\n",
       "      <td>2018-05-12 to 2019-04-16</td>\n",
       "    </tr>\n",
       "    <tr>\n",
       "      <th>120</th>\n",
       "      <td>DrugSubstance_TotalProtein</td>\n",
       "      <td>0.919931</td>\n",
       "      <td>ppk</td>\n",
       "      <td>2019-04-18</td>\n",
       "      <td>2019-12-21</td>\n",
       "      <td>2019-04-18 to 2019-12-21</td>\n",
       "    </tr>\n",
       "  </tbody>\n",
       "</table>\n",
       "<p>121 rows × 6 columns</p>\n",
       "</div>"
      ],
      "text/plain": [
       "                      Parameter  Calculation cpk/ppk Date Range Beg  \\\n",
       "0         DrugSubstance_Calcium     1.632147     ppk     2013-01-17   \n",
       "1         DrugSubstance_Calcium     1.658004     ppk     2015-08-08   \n",
       "2         DrugSubstance_Calcium     1.711641     ppk     2016-12-16   \n",
       "3         DrugSubstance_Calcium     2.307324     ppk     2017-07-01   \n",
       "4         DrugSubstance_Calcium     1.968835     ppk     2018-06-06   \n",
       "..                          ...          ...     ...            ...   \n",
       "116  DrugSubstance_TotalProtein     1.334445     ppk     2013-07-04   \n",
       "117  DrugSubstance_TotalProtein     1.662675     ppk     2016-11-05   \n",
       "118  DrugSubstance_TotalProtein     1.637067     ppk     2017-06-07   \n",
       "119  DrugSubstance_TotalProtein     1.186570     ppk     2018-05-12   \n",
       "120  DrugSubstance_TotalProtein     0.919931     ppk     2019-04-18   \n",
       "\n",
       "    Date Range End                      Date  \n",
       "0       2015-08-05  2013-01-17 to 2015-08-05  \n",
       "1       2016-12-15  2015-08-08 to 2016-12-15  \n",
       "2       2017-06-28  2016-12-16 to 2017-06-28  \n",
       "3       2018-06-02  2017-07-01 to 2018-06-02  \n",
       "4       2019-04-20  2018-06-06 to 2019-04-20  \n",
       "..             ...                       ...  \n",
       "116     2016-11-02  2013-07-04 to 2016-11-02  \n",
       "117     2017-05-31  2016-11-05 to 2017-05-31  \n",
       "118     2018-05-09  2017-06-07 to 2018-05-09  \n",
       "119     2019-04-16  2018-05-12 to 2019-04-16  \n",
       "120     2019-12-21  2019-04-18 to 2019-12-21  \n",
       "\n",
       "[121 rows x 6 columns]"
      ]
     },
     "execution_count": 25,
     "metadata": {},
     "output_type": "execute_result"
    }
   ],
   "source": [
    "\n",
    "dff['Date'] = dff[\"Date Range Beg\"] + \" to \" + dff[\"Date Range End\"]\n",
    "dff"
   ]
  },
  {
   "cell_type": "code",
   "execution_count": 27,
   "metadata": {},
   "outputs": [
    {
     "data": {
      "text/html": [
       "<div>\n",
       "<style scoped>\n",
       "    .dataframe tbody tr th:only-of-type {\n",
       "        vertical-align: middle;\n",
       "    }\n",
       "\n",
       "    .dataframe tbody tr th {\n",
       "        vertical-align: top;\n",
       "    }\n",
       "\n",
       "    .dataframe thead th {\n",
       "        text-align: right;\n",
       "    }\n",
       "</style>\n",
       "<table border=\"1\" class=\"dataframe\">\n",
       "  <thead>\n",
       "    <tr style=\"text-align: right;\">\n",
       "      <th></th>\n",
       "      <th>Parameter</th>\n",
       "      <th>Calculation</th>\n",
       "      <th>cpk/ppk</th>\n",
       "      <th>Date Range Beg</th>\n",
       "      <th>Date Range End</th>\n",
       "      <th>Date</th>\n",
       "    </tr>\n",
       "  </thead>\n",
       "  <tbody>\n",
       "    <tr>\n",
       "      <th>0</th>\n",
       "      <td>DrugSubstance_Calcium</td>\n",
       "      <td>1.632147</td>\n",
       "      <td>ppk</td>\n",
       "      <td>2013-01-17</td>\n",
       "      <td>2015-08-05</td>\n",
       "      <td>2013-01-17 to 2015-08-05</td>\n",
       "    </tr>\n",
       "    <tr>\n",
       "      <th>1</th>\n",
       "      <td>DrugSubstance_Calcium</td>\n",
       "      <td>1.658004</td>\n",
       "      <td>ppk</td>\n",
       "      <td>2015-08-08</td>\n",
       "      <td>2016-12-15</td>\n",
       "      <td>2015-08-08 to 2016-12-15</td>\n",
       "    </tr>\n",
       "    <tr>\n",
       "      <th>2</th>\n",
       "      <td>DrugSubstance_Calcium</td>\n",
       "      <td>1.711641</td>\n",
       "      <td>ppk</td>\n",
       "      <td>2016-12-16</td>\n",
       "      <td>2017-06-28</td>\n",
       "      <td>2016-12-16 to 2017-06-28</td>\n",
       "    </tr>\n",
       "    <tr>\n",
       "      <th>3</th>\n",
       "      <td>DrugSubstance_Calcium</td>\n",
       "      <td>2.307324</td>\n",
       "      <td>ppk</td>\n",
       "      <td>2017-07-01</td>\n",
       "      <td>2018-06-02</td>\n",
       "      <td>2017-07-01 to 2018-06-02</td>\n",
       "    </tr>\n",
       "    <tr>\n",
       "      <th>4</th>\n",
       "      <td>DrugSubstance_Calcium</td>\n",
       "      <td>1.968835</td>\n",
       "      <td>ppk</td>\n",
       "      <td>2018-06-06</td>\n",
       "      <td>2019-04-20</td>\n",
       "      <td>2018-06-06 to 2019-04-20</td>\n",
       "    </tr>\n",
       "    <tr>\n",
       "      <th>5</th>\n",
       "      <td>DrugSubstance_Calcium</td>\n",
       "      <td>2.411681</td>\n",
       "      <td>ppk</td>\n",
       "      <td>2019-04-23</td>\n",
       "      <td>2019-12-21</td>\n",
       "      <td>2019-04-23 to 2019-12-21</td>\n",
       "    </tr>\n",
       "  </tbody>\n",
       "</table>\n",
       "</div>"
      ],
      "text/plain": [
       "               Parameter  Calculation cpk/ppk Date Range Beg Date Range End  \\\n",
       "0  DrugSubstance_Calcium     1.632147     ppk     2013-01-17     2015-08-05   \n",
       "1  DrugSubstance_Calcium     1.658004     ppk     2015-08-08     2016-12-15   \n",
       "2  DrugSubstance_Calcium     1.711641     ppk     2016-12-16     2017-06-28   \n",
       "3  DrugSubstance_Calcium     2.307324     ppk     2017-07-01     2018-06-02   \n",
       "4  DrugSubstance_Calcium     1.968835     ppk     2018-06-06     2019-04-20   \n",
       "5  DrugSubstance_Calcium     2.411681     ppk     2019-04-23     2019-12-21   \n",
       "\n",
       "                       Date  \n",
       "0  2013-01-17 to 2015-08-05  \n",
       "1  2015-08-08 to 2016-12-15  \n",
       "2  2016-12-16 to 2017-06-28  \n",
       "3  2017-07-01 to 2018-06-02  \n",
       "4  2018-06-06 to 2019-04-20  \n",
       "5  2019-04-23 to 2019-12-21  "
      ]
     },
     "execution_count": 27,
     "metadata": {},
     "output_type": "execute_result"
    }
   ],
   "source": [
    "joe = dff.loc[dff.Parameter=='DrugSubstance_Calcium']\n",
    "joe"
   ]
  },
  {
   "cell_type": "code",
   "execution_count": 47,
   "metadata": {},
   "outputs": [
    {
     "data": {
      "application/vnd.plotly.v1+json": {
       "config": {
        "plotlyServerURL": "https://plotly.com"
       },
       "data": [
        {
         "hovertext": [
          "ppk",
          "ppk",
          "ppk",
          "ppk",
          "ppk",
          "ppk"
         ],
         "line": {
          "color": "black"
         },
         "mode": "markers",
         "name": "cpk/ppk",
         "type": "scatter",
         "x": [
          "2013-01-17 to 2015-08-05",
          "2015-08-08 to 2016-12-15",
          "2016-12-16 to 2017-06-28",
          "2017-07-01 to 2018-06-02",
          "2018-06-06 to 2019-04-20",
          "2019-04-23 to 2019-12-21"
         ],
         "y": [
          1.6321472306592462,
          1.6580040215706662,
          1.7116413281674425,
          2.3073239925660265,
          1.9688347499312087,
          2.411681401974198
         ]
        },
        {
         "hoverinfo": "skip",
         "line": {
          "color": "green",
          "width": 1.5
         },
         "mode": "lines",
         "type": "scatter",
         "x": [
          "2013-01-17 to 2015-08-05",
          "2015-08-08 to 2016-12-15",
          "2016-12-16 to 2017-06-28",
          "2017-07-01 to 2018-06-02",
          "2018-06-06 to 2019-04-20",
          "2019-04-23 to 2019-12-21"
         ],
         "y": [
          1.33,
          1.33,
          1.33,
          1.33,
          1.33,
          1.33,
          1.33,
          1.33,
          1.33,
          1.33,
          1.33,
          1.33,
          1.33,
          1.33,
          1.33,
          1.33,
          1.33,
          1.33,
          1.33,
          1.33,
          1.33,
          1.33,
          1.33,
          1.33,
          1.33,
          1.33
         ]
        },
        {
         "hoverinfo": "skip",
         "line": {
          "color": "green",
          "width": 1.5
         },
         "mode": "lines",
         "type": "scatter",
         "x": [
          "2013-01-17 to 2015-08-05",
          "2015-08-08 to 2016-12-15",
          "2016-12-16 to 2017-06-28",
          "2017-07-01 to 2018-06-02",
          "2018-06-06 to 2019-04-20",
          "2019-04-23 to 2019-12-21"
         ],
         "y": [
          1,
          1,
          1,
          1,
          1,
          1,
          1,
          1,
          1,
          1,
          1,
          1,
          1,
          1,
          1,
          1,
          1,
          1,
          1,
          1,
          1,
          1,
          1,
          1,
          1,
          1
         ]
        }
       ],
       "layout": {
        "plot_bgcolor": "rgb(229,229,229)",
        "showlegend": false,
        "template": {
         "data": {
          "bar": [
           {
            "error_x": {
             "color": "#2a3f5f"
            },
            "error_y": {
             "color": "#2a3f5f"
            },
            "marker": {
             "line": {
              "color": "#E5ECF6",
              "width": 0.5
             }
            },
            "type": "bar"
           }
          ],
          "barpolar": [
           {
            "marker": {
             "line": {
              "color": "#E5ECF6",
              "width": 0.5
             }
            },
            "type": "barpolar"
           }
          ],
          "carpet": [
           {
            "aaxis": {
             "endlinecolor": "#2a3f5f",
             "gridcolor": "white",
             "linecolor": "white",
             "minorgridcolor": "white",
             "startlinecolor": "#2a3f5f"
            },
            "baxis": {
             "endlinecolor": "#2a3f5f",
             "gridcolor": "white",
             "linecolor": "white",
             "minorgridcolor": "white",
             "startlinecolor": "#2a3f5f"
            },
            "type": "carpet"
           }
          ],
          "choropleth": [
           {
            "colorbar": {
             "outlinewidth": 0,
             "ticks": ""
            },
            "type": "choropleth"
           }
          ],
          "contour": [
           {
            "colorbar": {
             "outlinewidth": 0,
             "ticks": ""
            },
            "colorscale": [
             [
              0,
              "#0d0887"
             ],
             [
              0.1111111111111111,
              "#46039f"
             ],
             [
              0.2222222222222222,
              "#7201a8"
             ],
             [
              0.3333333333333333,
              "#9c179e"
             ],
             [
              0.4444444444444444,
              "#bd3786"
             ],
             [
              0.5555555555555556,
              "#d8576b"
             ],
             [
              0.6666666666666666,
              "#ed7953"
             ],
             [
              0.7777777777777778,
              "#fb9f3a"
             ],
             [
              0.8888888888888888,
              "#fdca26"
             ],
             [
              1,
              "#f0f921"
             ]
            ],
            "type": "contour"
           }
          ],
          "contourcarpet": [
           {
            "colorbar": {
             "outlinewidth": 0,
             "ticks": ""
            },
            "type": "contourcarpet"
           }
          ],
          "heatmap": [
           {
            "colorbar": {
             "outlinewidth": 0,
             "ticks": ""
            },
            "colorscale": [
             [
              0,
              "#0d0887"
             ],
             [
              0.1111111111111111,
              "#46039f"
             ],
             [
              0.2222222222222222,
              "#7201a8"
             ],
             [
              0.3333333333333333,
              "#9c179e"
             ],
             [
              0.4444444444444444,
              "#bd3786"
             ],
             [
              0.5555555555555556,
              "#d8576b"
             ],
             [
              0.6666666666666666,
              "#ed7953"
             ],
             [
              0.7777777777777778,
              "#fb9f3a"
             ],
             [
              0.8888888888888888,
              "#fdca26"
             ],
             [
              1,
              "#f0f921"
             ]
            ],
            "type": "heatmap"
           }
          ],
          "heatmapgl": [
           {
            "colorbar": {
             "outlinewidth": 0,
             "ticks": ""
            },
            "colorscale": [
             [
              0,
              "#0d0887"
             ],
             [
              0.1111111111111111,
              "#46039f"
             ],
             [
              0.2222222222222222,
              "#7201a8"
             ],
             [
              0.3333333333333333,
              "#9c179e"
             ],
             [
              0.4444444444444444,
              "#bd3786"
             ],
             [
              0.5555555555555556,
              "#d8576b"
             ],
             [
              0.6666666666666666,
              "#ed7953"
             ],
             [
              0.7777777777777778,
              "#fb9f3a"
             ],
             [
              0.8888888888888888,
              "#fdca26"
             ],
             [
              1,
              "#f0f921"
             ]
            ],
            "type": "heatmapgl"
           }
          ],
          "histogram": [
           {
            "marker": {
             "colorbar": {
              "outlinewidth": 0,
              "ticks": ""
             }
            },
            "type": "histogram"
           }
          ],
          "histogram2d": [
           {
            "colorbar": {
             "outlinewidth": 0,
             "ticks": ""
            },
            "colorscale": [
             [
              0,
              "#0d0887"
             ],
             [
              0.1111111111111111,
              "#46039f"
             ],
             [
              0.2222222222222222,
              "#7201a8"
             ],
             [
              0.3333333333333333,
              "#9c179e"
             ],
             [
              0.4444444444444444,
              "#bd3786"
             ],
             [
              0.5555555555555556,
              "#d8576b"
             ],
             [
              0.6666666666666666,
              "#ed7953"
             ],
             [
              0.7777777777777778,
              "#fb9f3a"
             ],
             [
              0.8888888888888888,
              "#fdca26"
             ],
             [
              1,
              "#f0f921"
             ]
            ],
            "type": "histogram2d"
           }
          ],
          "histogram2dcontour": [
           {
            "colorbar": {
             "outlinewidth": 0,
             "ticks": ""
            },
            "colorscale": [
             [
              0,
              "#0d0887"
             ],
             [
              0.1111111111111111,
              "#46039f"
             ],
             [
              0.2222222222222222,
              "#7201a8"
             ],
             [
              0.3333333333333333,
              "#9c179e"
             ],
             [
              0.4444444444444444,
              "#bd3786"
             ],
             [
              0.5555555555555556,
              "#d8576b"
             ],
             [
              0.6666666666666666,
              "#ed7953"
             ],
             [
              0.7777777777777778,
              "#fb9f3a"
             ],
             [
              0.8888888888888888,
              "#fdca26"
             ],
             [
              1,
              "#f0f921"
             ]
            ],
            "type": "histogram2dcontour"
           }
          ],
          "mesh3d": [
           {
            "colorbar": {
             "outlinewidth": 0,
             "ticks": ""
            },
            "type": "mesh3d"
           }
          ],
          "parcoords": [
           {
            "line": {
             "colorbar": {
              "outlinewidth": 0,
              "ticks": ""
             }
            },
            "type": "parcoords"
           }
          ],
          "pie": [
           {
            "automargin": true,
            "type": "pie"
           }
          ],
          "scatter": [
           {
            "marker": {
             "colorbar": {
              "outlinewidth": 0,
              "ticks": ""
             }
            },
            "type": "scatter"
           }
          ],
          "scatter3d": [
           {
            "line": {
             "colorbar": {
              "outlinewidth": 0,
              "ticks": ""
             }
            },
            "marker": {
             "colorbar": {
              "outlinewidth": 0,
              "ticks": ""
             }
            },
            "type": "scatter3d"
           }
          ],
          "scattercarpet": [
           {
            "marker": {
             "colorbar": {
              "outlinewidth": 0,
              "ticks": ""
             }
            },
            "type": "scattercarpet"
           }
          ],
          "scattergeo": [
           {
            "marker": {
             "colorbar": {
              "outlinewidth": 0,
              "ticks": ""
             }
            },
            "type": "scattergeo"
           }
          ],
          "scattergl": [
           {
            "marker": {
             "colorbar": {
              "outlinewidth": 0,
              "ticks": ""
             }
            },
            "type": "scattergl"
           }
          ],
          "scattermapbox": [
           {
            "marker": {
             "colorbar": {
              "outlinewidth": 0,
              "ticks": ""
             }
            },
            "type": "scattermapbox"
           }
          ],
          "scatterpolar": [
           {
            "marker": {
             "colorbar": {
              "outlinewidth": 0,
              "ticks": ""
             }
            },
            "type": "scatterpolar"
           }
          ],
          "scatterpolargl": [
           {
            "marker": {
             "colorbar": {
              "outlinewidth": 0,
              "ticks": ""
             }
            },
            "type": "scatterpolargl"
           }
          ],
          "scatterternary": [
           {
            "marker": {
             "colorbar": {
              "outlinewidth": 0,
              "ticks": ""
             }
            },
            "type": "scatterternary"
           }
          ],
          "surface": [
           {
            "colorbar": {
             "outlinewidth": 0,
             "ticks": ""
            },
            "colorscale": [
             [
              0,
              "#0d0887"
             ],
             [
              0.1111111111111111,
              "#46039f"
             ],
             [
              0.2222222222222222,
              "#7201a8"
             ],
             [
              0.3333333333333333,
              "#9c179e"
             ],
             [
              0.4444444444444444,
              "#bd3786"
             ],
             [
              0.5555555555555556,
              "#d8576b"
             ],
             [
              0.6666666666666666,
              "#ed7953"
             ],
             [
              0.7777777777777778,
              "#fb9f3a"
             ],
             [
              0.8888888888888888,
              "#fdca26"
             ],
             [
              1,
              "#f0f921"
             ]
            ],
            "type": "surface"
           }
          ],
          "table": [
           {
            "cells": {
             "fill": {
              "color": "#EBF0F8"
             },
             "line": {
              "color": "white"
             }
            },
            "header": {
             "fill": {
              "color": "#C8D4E3"
             },
             "line": {
              "color": "white"
             }
            },
            "type": "table"
           }
          ]
         },
         "layout": {
          "annotationdefaults": {
           "arrowcolor": "#2a3f5f",
           "arrowhead": 0,
           "arrowwidth": 1
          },
          "coloraxis": {
           "colorbar": {
            "outlinewidth": 0,
            "ticks": ""
           }
          },
          "colorscale": {
           "diverging": [
            [
             0,
             "#8e0152"
            ],
            [
             0.1,
             "#c51b7d"
            ],
            [
             0.2,
             "#de77ae"
            ],
            [
             0.3,
             "#f1b6da"
            ],
            [
             0.4,
             "#fde0ef"
            ],
            [
             0.5,
             "#f7f7f7"
            ],
            [
             0.6,
             "#e6f5d0"
            ],
            [
             0.7,
             "#b8e186"
            ],
            [
             0.8,
             "#7fbc41"
            ],
            [
             0.9,
             "#4d9221"
            ],
            [
             1,
             "#276419"
            ]
           ],
           "sequential": [
            [
             0,
             "#0d0887"
            ],
            [
             0.1111111111111111,
             "#46039f"
            ],
            [
             0.2222222222222222,
             "#7201a8"
            ],
            [
             0.3333333333333333,
             "#9c179e"
            ],
            [
             0.4444444444444444,
             "#bd3786"
            ],
            [
             0.5555555555555556,
             "#d8576b"
            ],
            [
             0.6666666666666666,
             "#ed7953"
            ],
            [
             0.7777777777777778,
             "#fb9f3a"
            ],
            [
             0.8888888888888888,
             "#fdca26"
            ],
            [
             1,
             "#f0f921"
            ]
           ],
           "sequentialminus": [
            [
             0,
             "#0d0887"
            ],
            [
             0.1111111111111111,
             "#46039f"
            ],
            [
             0.2222222222222222,
             "#7201a8"
            ],
            [
             0.3333333333333333,
             "#9c179e"
            ],
            [
             0.4444444444444444,
             "#bd3786"
            ],
            [
             0.5555555555555556,
             "#d8576b"
            ],
            [
             0.6666666666666666,
             "#ed7953"
            ],
            [
             0.7777777777777778,
             "#fb9f3a"
            ],
            [
             0.8888888888888888,
             "#fdca26"
            ],
            [
             1,
             "#f0f921"
            ]
           ]
          },
          "colorway": [
           "#636efa",
           "#EF553B",
           "#00cc96",
           "#ab63fa",
           "#FFA15A",
           "#19d3f3",
           "#FF6692",
           "#B6E880",
           "#FF97FF",
           "#FECB52"
          ],
          "font": {
           "color": "#2a3f5f"
          },
          "geo": {
           "bgcolor": "white",
           "lakecolor": "white",
           "landcolor": "#E5ECF6",
           "showlakes": true,
           "showland": true,
           "subunitcolor": "white"
          },
          "hoverlabel": {
           "align": "left"
          },
          "hovermode": "closest",
          "mapbox": {
           "style": "light"
          },
          "paper_bgcolor": "white",
          "plot_bgcolor": "#E5ECF6",
          "polar": {
           "angularaxis": {
            "gridcolor": "white",
            "linecolor": "white",
            "ticks": ""
           },
           "bgcolor": "#E5ECF6",
           "radialaxis": {
            "gridcolor": "white",
            "linecolor": "white",
            "ticks": ""
           }
          },
          "scene": {
           "xaxis": {
            "backgroundcolor": "#E5ECF6",
            "gridcolor": "white",
            "gridwidth": 2,
            "linecolor": "white",
            "showbackground": true,
            "ticks": "",
            "zerolinecolor": "white"
           },
           "yaxis": {
            "backgroundcolor": "#E5ECF6",
            "gridcolor": "white",
            "gridwidth": 2,
            "linecolor": "white",
            "showbackground": true,
            "ticks": "",
            "zerolinecolor": "white"
           },
           "zaxis": {
            "backgroundcolor": "#E5ECF6",
            "gridcolor": "white",
            "gridwidth": 2,
            "linecolor": "white",
            "showbackground": true,
            "ticks": "",
            "zerolinecolor": "white"
           }
          },
          "shapedefaults": {
           "line": {
            "color": "#2a3f5f"
           }
          },
          "ternary": {
           "aaxis": {
            "gridcolor": "white",
            "linecolor": "white",
            "ticks": ""
           },
           "baxis": {
            "gridcolor": "white",
            "linecolor": "white",
            "ticks": ""
           },
           "bgcolor": "#E5ECF6",
           "caxis": {
            "gridcolor": "white",
            "linecolor": "white",
            "ticks": ""
           }
          },
          "title": {
           "x": 0.05
          },
          "xaxis": {
           "automargin": true,
           "gridcolor": "white",
           "linecolor": "white",
           "ticks": "",
           "title": {
            "standoff": 15
           },
           "zerolinecolor": "white",
           "zerolinewidth": 2
          },
          "yaxis": {
           "automargin": true,
           "gridcolor": "white",
           "linecolor": "white",
           "ticks": "",
           "title": {
            "standoff": 15
           },
           "zerolinecolor": "white",
           "zerolinewidth": 2
          }
         }
        },
        "title": {
         "text": "Kovaltry DrugSubstance_Calcium  2020-09-21"
        }
       }
      },
      "text/html": [
       "<div>\n",
       "        \n",
       "        \n",
       "            <div id=\"e0a69bc1-c8f6-4bc3-9543-1f4e94c96d71\" class=\"plotly-graph-div\" style=\"height:525px; width:100%;\"></div>\n",
       "            <script type=\"text/javascript\">\n",
       "                require([\"plotly\"], function(Plotly) {\n",
       "                    window.PLOTLYENV=window.PLOTLYENV || {};\n",
       "                    \n",
       "                if (document.getElementById(\"e0a69bc1-c8f6-4bc3-9543-1f4e94c96d71\")) {\n",
       "                    Plotly.newPlot(\n",
       "                        'e0a69bc1-c8f6-4bc3-9543-1f4e94c96d71',\n",
       "                        [{\"hovertext\": [\"ppk\", \"ppk\", \"ppk\", \"ppk\", \"ppk\", \"ppk\"], \"line\": {\"color\": \"black\"}, \"mode\": \"markers\", \"name\": \"cpk/ppk\", \"type\": \"scatter\", \"x\": [\"2013-01-17 to 2015-08-05\", \"2015-08-08 to 2016-12-15\", \"2016-12-16 to 2017-06-28\", \"2017-07-01 to 2018-06-02\", \"2018-06-06 to 2019-04-20\", \"2019-04-23 to 2019-12-21\"], \"y\": [1.6321472306592462, 1.6580040215706662, 1.7116413281674425, 2.3073239925660265, 1.9688347499312087, 2.411681401974198]}, {\"hoverinfo\": \"skip\", \"line\": {\"color\": \"green\", \"width\": 1.5}, \"mode\": \"lines\", \"type\": \"scatter\", \"x\": [\"2013-01-17 to 2015-08-05\", \"2015-08-08 to 2016-12-15\", \"2016-12-16 to 2017-06-28\", \"2017-07-01 to 2018-06-02\", \"2018-06-06 to 2019-04-20\", \"2019-04-23 to 2019-12-21\"], \"y\": [1.33, 1.33, 1.33, 1.33, 1.33, 1.33, 1.33, 1.33, 1.33, 1.33, 1.33, 1.33, 1.33, 1.33, 1.33, 1.33, 1.33, 1.33, 1.33, 1.33, 1.33, 1.33, 1.33, 1.33, 1.33, 1.33]}, {\"hoverinfo\": \"skip\", \"line\": {\"color\": \"green\", \"width\": 1.5}, \"mode\": \"lines\", \"type\": \"scatter\", \"x\": [\"2013-01-17 to 2015-08-05\", \"2015-08-08 to 2016-12-15\", \"2016-12-16 to 2017-06-28\", \"2017-07-01 to 2018-06-02\", \"2018-06-06 to 2019-04-20\", \"2019-04-23 to 2019-12-21\"], \"y\": [1, 1, 1, 1, 1, 1, 1, 1, 1, 1, 1, 1, 1, 1, 1, 1, 1, 1, 1, 1, 1, 1, 1, 1, 1, 1]}],\n",
       "                        {\"plot_bgcolor\": \"rgb(229,229,229)\", \"showlegend\": false, \"template\": {\"data\": {\"bar\": [{\"error_x\": {\"color\": \"#2a3f5f\"}, \"error_y\": {\"color\": \"#2a3f5f\"}, \"marker\": {\"line\": {\"color\": \"#E5ECF6\", \"width\": 0.5}}, \"type\": \"bar\"}], \"barpolar\": [{\"marker\": {\"line\": {\"color\": \"#E5ECF6\", \"width\": 0.5}}, \"type\": \"barpolar\"}], \"carpet\": [{\"aaxis\": {\"endlinecolor\": \"#2a3f5f\", \"gridcolor\": \"white\", \"linecolor\": \"white\", \"minorgridcolor\": \"white\", \"startlinecolor\": \"#2a3f5f\"}, \"baxis\": {\"endlinecolor\": \"#2a3f5f\", \"gridcolor\": \"white\", \"linecolor\": \"white\", \"minorgridcolor\": \"white\", \"startlinecolor\": \"#2a3f5f\"}, \"type\": \"carpet\"}], \"choropleth\": [{\"colorbar\": {\"outlinewidth\": 0, \"ticks\": \"\"}, \"type\": \"choropleth\"}], \"contour\": [{\"colorbar\": {\"outlinewidth\": 0, \"ticks\": \"\"}, \"colorscale\": [[0.0, \"#0d0887\"], [0.1111111111111111, \"#46039f\"], [0.2222222222222222, \"#7201a8\"], [0.3333333333333333, \"#9c179e\"], [0.4444444444444444, \"#bd3786\"], [0.5555555555555556, \"#d8576b\"], [0.6666666666666666, \"#ed7953\"], [0.7777777777777778, \"#fb9f3a\"], [0.8888888888888888, \"#fdca26\"], [1.0, \"#f0f921\"]], \"type\": \"contour\"}], \"contourcarpet\": [{\"colorbar\": {\"outlinewidth\": 0, \"ticks\": \"\"}, \"type\": \"contourcarpet\"}], \"heatmap\": [{\"colorbar\": {\"outlinewidth\": 0, \"ticks\": \"\"}, \"colorscale\": [[0.0, \"#0d0887\"], [0.1111111111111111, \"#46039f\"], [0.2222222222222222, \"#7201a8\"], [0.3333333333333333, \"#9c179e\"], [0.4444444444444444, \"#bd3786\"], [0.5555555555555556, \"#d8576b\"], [0.6666666666666666, \"#ed7953\"], [0.7777777777777778, \"#fb9f3a\"], [0.8888888888888888, \"#fdca26\"], [1.0, \"#f0f921\"]], \"type\": \"heatmap\"}], \"heatmapgl\": [{\"colorbar\": {\"outlinewidth\": 0, \"ticks\": \"\"}, \"colorscale\": [[0.0, \"#0d0887\"], [0.1111111111111111, \"#46039f\"], [0.2222222222222222, \"#7201a8\"], [0.3333333333333333, \"#9c179e\"], [0.4444444444444444, \"#bd3786\"], [0.5555555555555556, \"#d8576b\"], [0.6666666666666666, \"#ed7953\"], [0.7777777777777778, \"#fb9f3a\"], [0.8888888888888888, \"#fdca26\"], [1.0, \"#f0f921\"]], \"type\": \"heatmapgl\"}], \"histogram\": [{\"marker\": {\"colorbar\": {\"outlinewidth\": 0, \"ticks\": \"\"}}, \"type\": \"histogram\"}], \"histogram2d\": [{\"colorbar\": {\"outlinewidth\": 0, \"ticks\": \"\"}, \"colorscale\": [[0.0, \"#0d0887\"], [0.1111111111111111, \"#46039f\"], [0.2222222222222222, \"#7201a8\"], [0.3333333333333333, \"#9c179e\"], [0.4444444444444444, \"#bd3786\"], [0.5555555555555556, \"#d8576b\"], [0.6666666666666666, \"#ed7953\"], [0.7777777777777778, \"#fb9f3a\"], [0.8888888888888888, \"#fdca26\"], [1.0, \"#f0f921\"]], \"type\": \"histogram2d\"}], \"histogram2dcontour\": [{\"colorbar\": {\"outlinewidth\": 0, \"ticks\": \"\"}, \"colorscale\": [[0.0, \"#0d0887\"], [0.1111111111111111, \"#46039f\"], [0.2222222222222222, \"#7201a8\"], [0.3333333333333333, \"#9c179e\"], [0.4444444444444444, \"#bd3786\"], [0.5555555555555556, \"#d8576b\"], [0.6666666666666666, \"#ed7953\"], [0.7777777777777778, \"#fb9f3a\"], [0.8888888888888888, \"#fdca26\"], [1.0, \"#f0f921\"]], \"type\": \"histogram2dcontour\"}], \"mesh3d\": [{\"colorbar\": {\"outlinewidth\": 0, \"ticks\": \"\"}, \"type\": \"mesh3d\"}], \"parcoords\": [{\"line\": {\"colorbar\": {\"outlinewidth\": 0, \"ticks\": \"\"}}, \"type\": \"parcoords\"}], \"pie\": [{\"automargin\": true, \"type\": \"pie\"}], \"scatter\": [{\"marker\": {\"colorbar\": {\"outlinewidth\": 0, \"ticks\": \"\"}}, \"type\": \"scatter\"}], \"scatter3d\": [{\"line\": {\"colorbar\": {\"outlinewidth\": 0, \"ticks\": \"\"}}, \"marker\": {\"colorbar\": {\"outlinewidth\": 0, \"ticks\": \"\"}}, \"type\": \"scatter3d\"}], \"scattercarpet\": [{\"marker\": {\"colorbar\": {\"outlinewidth\": 0, \"ticks\": \"\"}}, \"type\": \"scattercarpet\"}], \"scattergeo\": [{\"marker\": {\"colorbar\": {\"outlinewidth\": 0, \"ticks\": \"\"}}, \"type\": \"scattergeo\"}], \"scattergl\": [{\"marker\": {\"colorbar\": {\"outlinewidth\": 0, \"ticks\": \"\"}}, \"type\": \"scattergl\"}], \"scattermapbox\": [{\"marker\": {\"colorbar\": {\"outlinewidth\": 0, \"ticks\": \"\"}}, \"type\": \"scattermapbox\"}], \"scatterpolar\": [{\"marker\": {\"colorbar\": {\"outlinewidth\": 0, \"ticks\": \"\"}}, \"type\": \"scatterpolar\"}], \"scatterpolargl\": [{\"marker\": {\"colorbar\": {\"outlinewidth\": 0, \"ticks\": \"\"}}, \"type\": \"scatterpolargl\"}], \"scatterternary\": [{\"marker\": {\"colorbar\": {\"outlinewidth\": 0, \"ticks\": \"\"}}, \"type\": \"scatterternary\"}], \"surface\": [{\"colorbar\": {\"outlinewidth\": 0, \"ticks\": \"\"}, \"colorscale\": [[0.0, \"#0d0887\"], [0.1111111111111111, \"#46039f\"], [0.2222222222222222, \"#7201a8\"], [0.3333333333333333, \"#9c179e\"], [0.4444444444444444, \"#bd3786\"], [0.5555555555555556, \"#d8576b\"], [0.6666666666666666, \"#ed7953\"], [0.7777777777777778, \"#fb9f3a\"], [0.8888888888888888, \"#fdca26\"], [1.0, \"#f0f921\"]], \"type\": \"surface\"}], \"table\": [{\"cells\": {\"fill\": {\"color\": \"#EBF0F8\"}, \"line\": {\"color\": \"white\"}}, \"header\": {\"fill\": {\"color\": \"#C8D4E3\"}, \"line\": {\"color\": \"white\"}}, \"type\": \"table\"}]}, \"layout\": {\"annotationdefaults\": {\"arrowcolor\": \"#2a3f5f\", \"arrowhead\": 0, \"arrowwidth\": 1}, \"coloraxis\": {\"colorbar\": {\"outlinewidth\": 0, \"ticks\": \"\"}}, \"colorscale\": {\"diverging\": [[0, \"#8e0152\"], [0.1, \"#c51b7d\"], [0.2, \"#de77ae\"], [0.3, \"#f1b6da\"], [0.4, \"#fde0ef\"], [0.5, \"#f7f7f7\"], [0.6, \"#e6f5d0\"], [0.7, \"#b8e186\"], [0.8, \"#7fbc41\"], [0.9, \"#4d9221\"], [1, \"#276419\"]], \"sequential\": [[0.0, \"#0d0887\"], [0.1111111111111111, \"#46039f\"], [0.2222222222222222, \"#7201a8\"], [0.3333333333333333, \"#9c179e\"], [0.4444444444444444, \"#bd3786\"], [0.5555555555555556, \"#d8576b\"], [0.6666666666666666, \"#ed7953\"], [0.7777777777777778, \"#fb9f3a\"], [0.8888888888888888, \"#fdca26\"], [1.0, \"#f0f921\"]], \"sequentialminus\": [[0.0, \"#0d0887\"], [0.1111111111111111, \"#46039f\"], [0.2222222222222222, \"#7201a8\"], [0.3333333333333333, \"#9c179e\"], [0.4444444444444444, \"#bd3786\"], [0.5555555555555556, \"#d8576b\"], [0.6666666666666666, \"#ed7953\"], [0.7777777777777778, \"#fb9f3a\"], [0.8888888888888888, \"#fdca26\"], [1.0, \"#f0f921\"]]}, \"colorway\": [\"#636efa\", \"#EF553B\", \"#00cc96\", \"#ab63fa\", \"#FFA15A\", \"#19d3f3\", \"#FF6692\", \"#B6E880\", \"#FF97FF\", \"#FECB52\"], \"font\": {\"color\": \"#2a3f5f\"}, \"geo\": {\"bgcolor\": \"white\", \"lakecolor\": \"white\", \"landcolor\": \"#E5ECF6\", \"showlakes\": true, \"showland\": true, \"subunitcolor\": \"white\"}, \"hoverlabel\": {\"align\": \"left\"}, \"hovermode\": \"closest\", \"mapbox\": {\"style\": \"light\"}, \"paper_bgcolor\": \"white\", \"plot_bgcolor\": \"#E5ECF6\", \"polar\": {\"angularaxis\": {\"gridcolor\": \"white\", \"linecolor\": \"white\", \"ticks\": \"\"}, \"bgcolor\": \"#E5ECF6\", \"radialaxis\": {\"gridcolor\": \"white\", \"linecolor\": \"white\", \"ticks\": \"\"}}, \"scene\": {\"xaxis\": {\"backgroundcolor\": \"#E5ECF6\", \"gridcolor\": \"white\", \"gridwidth\": 2, \"linecolor\": \"white\", \"showbackground\": true, \"ticks\": \"\", \"zerolinecolor\": \"white\"}, \"yaxis\": {\"backgroundcolor\": \"#E5ECF6\", \"gridcolor\": \"white\", \"gridwidth\": 2, \"linecolor\": \"white\", \"showbackground\": true, \"ticks\": \"\", \"zerolinecolor\": \"white\"}, \"zaxis\": {\"backgroundcolor\": \"#E5ECF6\", \"gridcolor\": \"white\", \"gridwidth\": 2, \"linecolor\": \"white\", \"showbackground\": true, \"ticks\": \"\", \"zerolinecolor\": \"white\"}}, \"shapedefaults\": {\"line\": {\"color\": \"#2a3f5f\"}}, \"ternary\": {\"aaxis\": {\"gridcolor\": \"white\", \"linecolor\": \"white\", \"ticks\": \"\"}, \"baxis\": {\"gridcolor\": \"white\", \"linecolor\": \"white\", \"ticks\": \"\"}, \"bgcolor\": \"#E5ECF6\", \"caxis\": {\"gridcolor\": \"white\", \"linecolor\": \"white\", \"ticks\": \"\"}}, \"title\": {\"x\": 0.05}, \"xaxis\": {\"automargin\": true, \"gridcolor\": \"white\", \"linecolor\": \"white\", \"ticks\": \"\", \"title\": {\"standoff\": 15}, \"zerolinecolor\": \"white\", \"zerolinewidth\": 2}, \"yaxis\": {\"automargin\": true, \"gridcolor\": \"white\", \"linecolor\": \"white\", \"ticks\": \"\", \"title\": {\"standoff\": 15}, \"zerolinecolor\": \"white\", \"zerolinewidth\": 2}}}, \"title\": {\"text\": \"Kovaltry DrugSubstance_Calcium  2020-09-21\"}},\n",
       "                        {\"responsive\": true}\n",
       "                    ).then(function(){\n",
       "                            \n",
       "var gd = document.getElementById('e0a69bc1-c8f6-4bc3-9543-1f4e94c96d71');\n",
       "var x = new MutationObserver(function (mutations, observer) {{\n",
       "        var display = window.getComputedStyle(gd).display;\n",
       "        if (!display || display === 'none') {{\n",
       "            console.log([gd, 'removed!']);\n",
       "            Plotly.purge(gd);\n",
       "            observer.disconnect();\n",
       "        }}\n",
       "}});\n",
       "\n",
       "// Listen for the removal of the full notebook cells\n",
       "var notebookContainer = gd.closest('#notebook-container');\n",
       "if (notebookContainer) {{\n",
       "    x.observe(notebookContainer, {childList: true});\n",
       "}}\n",
       "\n",
       "// Listen for the clearing of the current output cell\n",
       "var outputEl = gd.closest('.output');\n",
       "if (outputEl) {{\n",
       "    x.observe(outputEl, {childList: true});\n",
       "}}\n",
       "\n",
       "                        })\n",
       "                };\n",
       "                });\n",
       "            </script>\n",
       "        </div>"
      ]
     },
     "metadata": {},
     "output_type": "display_data"
    }
   ],
   "source": [
    "fig = go.Figure()\n",
    "fig.add_trace(go.Scatter(x=list(joe.Date),\n",
    "                         y=list(joe.Calculation),\n",
    "                         mode=\"markers\",\n",
    "                         name=\"cpk/ppk\",\n",
    "#                          hoverinfo =\"text\",\n",
    "                         hovertext =joe[\"cpk/ppk\"],\n",
    "                         line = dict(color=\"black\")\n",
    "                         ))\n",
    "fig.add_trace(go.Scatter(\n",
    "                x=list(joe.Date),\n",
    "                y=[1.33]*len(x),\n",
    "                hoverinfo = \"skip\",\n",
    "                mode=\"lines\",\n",
    "                line=dict(color=\"green\",width=1.5)))\n",
    "fig.add_trace(go.Scatter(\n",
    "                x=list(joe.Date),\n",
    "                y=[1]*len(x),\n",
    "                hoverinfo = \"skip\",\n",
    "                mode=\"lines\",\n",
    "                line=dict(color=\"green\",width=1.5)))\n",
    "fig.update_layout(showlegend=False,title_text=\"Kovaltry \" +joe.Parameter[0]+\"  \" + datetime.today().strftime('%Y-%m-%d'),\n",
    "                  plot_bgcolor='rgb(229,229,229)'\n",
    "                 )\n",
    "fig.show()"
   ]
  },
  {
   "cell_type": "code",
   "execution_count": null,
   "metadata": {},
   "outputs": [],
   "source": []
  }
 ],
 "metadata": {
  "kernelspec": {
   "display_name": "Python 3",
   "language": "python",
   "name": "python3"
  },
  "language_info": {
   "codemirror_mode": {
    "name": "ipython",
    "version": 3
   },
   "file_extension": ".py",
   "mimetype": "text/x-python",
   "name": "python",
   "nbconvert_exporter": "python",
   "pygments_lexer": "ipython3",
   "version": "3.7.7"
  }
 },
 "nbformat": 4,
 "nbformat_minor": 4
}
