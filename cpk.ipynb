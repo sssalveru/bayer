{
 "cells": [
  {
   "cell_type": "code",
   "execution_count": 1,
   "metadata": {},
   "outputs": [],
   "source": [
    "import pandas as pd\n",
    "import numpy as np\n",
    "import plotly.graph_objects as go\n",
    "import plotly.express as px\n",
    "import wecorules as weco\n",
    "from datetime import datetime"
   ]
  },
  {
   "cell_type": "code",
   "execution_count": 7,
   "metadata": {},
   "outputs": [],
   "source": [
    "data = pd.read_csv(\"C:\\\\Users\\\\Sampreeth Salveru\\\\Downloads\\\\AG_Discrete_DS06-Jul-2020.csv\")\n",
    "excel = pd.read_excel(\"C:\\\\Users\\\\Sampreeth Salveru\\\\Downloads\\\\riskQA.xlsx\",index_col=\"Quality Attributes\")\n",
    "data['Date'] = pd.to_datetime(data['PSDate'])\n",
    "data['Date'] = data.Date.dt.strftime('%Y-%m-%d')\n",
    "filter_col = [col for col in data if col.startswith(('Drug','Load'))]"
   ]
  },
  {
   "cell_type": "code",
   "execution_count": 3,
   "metadata": {},
   "outputs": [
    {
     "name": "stdout",
     "output_type": "stream",
     "text": [
      "2015-04-10 | 2015-10-21\n",
      "2015-10-24 | 2017-03-24\n",
      "2017-03-26 | 2018-05-02\n",
      "2018-05-05 | 2019-04-13\n",
      "2019-04-16 | 2019-12-21\n"
     ]
    }
   ],
   "source": [
    "for i in range(len(np.array_split(data['DrugSubstance_Sodium'].dropna(), len(data['DrugSubstance_Sodium'].dropna()) // 30))):\n",
    "    x = np.array(np.array_split(data['DrugSubstance_Sodium'].dropna(), len(data['DrugSubstance_Sodium'].dropna()) // 30)[i])\n",
    "    search = np.array(np.array_split(data['DrugSubstance_Sodium'].dropna(), len(data['DrugSubstance_Sodium'].dropna()) // 30)[i].index)[0]\n",
    "    search1 = np.array(np.array_split(data['DrugSubstance_Sodium'].dropna(), len(data['DrugSubstance_Sodium'].dropna()) // 30)[i].index)[-1]\n",
    "    beg = data.Date[search]\n",
    "    end = data.Date[search1]\n",
    "    mn = np.mean(x)\n",
    "    std = np.std(x)\n",
    "    leng = len(x)\n",
    "#     print(mn,std)\n",
    "#     print(leng, mn, std)\n",
    "    print(beg+\" | \"+end)"
   ]
  },
  {
   "cell_type": "code",
   "execution_count": 26,
   "metadata": {},
   "outputs": [
    {
     "data": {
      "text/plain": [
       "(array([0.63048439, 0.86933562, 0.78167982, 0.79611734, 0.97669317]),\n",
       " array(['ppk', 'ppk', 'ppk', 'ppk', 'ppk'], dtype='<U32'))"
      ]
     },
     "execution_count": 26,
     "metadata": {},
     "output_type": "execute_result"
    }
   ],
   "source": [
    "\n",
    "def cpkppk(col):\n",
    "    mean = excel.loc[col,\"Mean\"]\n",
    "    ucl = excel.loc[col,\"UCL\"]\n",
    "    lcl = excel.loc[col,\"LCL\"]\n",
    "    usl = excel.loc[col,\"USL\"]\n",
    "    lsl = excel.loc[col,\"LSL\"]\n",
    "    units = excel.loc[col,\"Units\"]\n",
    "    count1 = len(weco.weco1(col, ucl, lcl))\n",
    "    count4 = len(weco.weco4(col, mean))\n",
    "    count5 = len(weco.weco5(col))\n",
    "    total_count = count1 + count4 + count5\n",
    "    if total_count > 0:\n",
    "        percent1 = count1/total_count\n",
    "    work = np.array([])\n",
    "    work1 = np.array([])\n",
    "\n",
    "    for i in range(len(np.array_split(data[col].dropna(), len(data[col].dropna()) // 30))):\n",
    "        x = np.array(np.array_split(data[col].dropna(), len(data[col].dropna()) // 30)[i])\n",
    "        search = np.array(np.array_split(data[col].dropna(), len(data[col].dropna()) // 30)[i].index)[0]\n",
    "        search1 = np.array(np.array_split(data[col].dropna(), len(data[col].dropna()) // 30)[i].index)[-1]\n",
    "        beg = data.Date[search]\n",
    "        end = data.Date[search1]    \n",
    "        mn = np.mean(x)\n",
    "        std = np.std(x)\n",
    "        \n",
    "        if total_count == 0:\n",
    "            if np.isnan(usl) == False and np.isnan(lsl) == False:\n",
    "                cpkcalc = [(usl - mn)/(3*std), (mn-lsl)/(3*std)]\n",
    "                cpk = min(cpkcalc)\n",
    "            elif np.isnan(usl) == True:\n",
    "                cpk = (mn-lsl)/(3*std)\n",
    "            elif np.isnan(lsl) == True:\n",
    "                cpk = (usl-mn)/(3*std)  \n",
    "        elif percent1 >= 0.02:\n",
    "            if np.isnan(usl) == False and np.isnan(lsl) == False:\n",
    "                ppkcalc = [(usl - mn)/(3*std), (mn-lsl)/(3*std)]\n",
    "                ppk = min(ppkcalc)\n",
    "                work = np.append(work, ppk)\n",
    "                work1 = np.append(work1, \"ppk\")\n",
    "            elif np.isnan(usl) == True:\n",
    "                ppk = (mn - lsl)/(3*std)\n",
    "            elif np.isnan(lsl) == True:\n",
    "                ppk = (usl - mn)/(3*std)\n",
    "        elif percent1 <= 0.02:\n",
    "            if np.isnan(usl) == False and np.isnan(lsl) == False:\n",
    "                cpkcalc = [(usl - mn)/(3*std), (mn-lsl)/(3*std)]\n",
    "                cpk = min(cpkcalc)\n",
    "            elif np.isnan(usl) == True:\n",
    "                cpk = (mn-lsl)/(3*std)\n",
    "            elif np.isnan(lsl) == True:\n",
    "                cpk = (usl-mn)/(3*std)\n",
    "    \n",
    "    return work,work1\n",
    "        \n",
    "\n",
    "cpkppk(col = 'DrugSubstance_Sodium')\n",
    "\n"
   ]
  },
  {
   "cell_type": "code",
   "execution_count": 14,
   "metadata": {},
   "outputs": [
    {
     "data": {
      "text/plain": [
       "47"
      ]
     },
     "execution_count": 14,
     "metadata": {},
     "output_type": "execute_result"
    }
   ],
   "source": [
    "len(weco.weco4('DrugSubstance_Sodium',mean=27.8))"
   ]
  },
  {
   "cell_type": "code",
   "execution_count": 27,
   "metadata": {},
   "outputs": [
    {
     "name": "stderr",
     "output_type": "stream",
     "text": [
      "C:\\conda\\lib\\site-packages\\ipykernel_launcher.py:33: RuntimeWarning: divide by zero encountered in double_scalars\n"
     ]
    }
   ],
   "source": [
    "for x in filter_col[0:5]:\n",
    "    cpkppk(x)"
   ]
  },
  {
   "cell_type": "code",
   "execution_count": 16,
   "metadata": {},
   "outputs": [
    {
     "data": {
      "text/html": [
       "<div>\n",
       "<style scoped>\n",
       "    .dataframe tbody tr th:only-of-type {\n",
       "        vertical-align: middle;\n",
       "    }\n",
       "\n",
       "    .dataframe tbody tr th {\n",
       "        vertical-align: top;\n",
       "    }\n",
       "\n",
       "    .dataframe thead th {\n",
       "        text-align: right;\n",
       "    }\n",
       "</style>\n",
       "<table border=\"1\" class=\"dataframe\">\n",
       "  <thead>\n",
       "    <tr style=\"text-align: right;\">\n",
       "      <th></th>\n",
       "      <th>Param</th>\n",
       "      <th>calc</th>\n",
       "      <th>cpk/ppk</th>\n",
       "    </tr>\n",
       "  </thead>\n",
       "  <tbody>\n",
       "  </tbody>\n",
       "</table>\n",
       "</div>"
      ],
      "text/plain": [
       "Empty DataFrame\n",
       "Columns: [Param, calc, cpk/ppk]\n",
       "Index: []"
      ]
     },
     "execution_count": 16,
     "metadata": {},
     "output_type": "execute_result"
    }
   ],
   "source": [
    "df"
   ]
  }
 ],
 "metadata": {
  "kernelspec": {
   "display_name": "Python 3",
   "language": "python",
   "name": "python3"
  },
  "language_info": {
   "codemirror_mode": {
    "name": "ipython",
    "version": 3
   },
   "file_extension": ".py",
   "mimetype": "text/x-python",
   "name": "python",
   "nbconvert_exporter": "python",
   "pygments_lexer": "ipython3",
   "version": "3.7.7"
  }
 },
 "nbformat": 4,
 "nbformat_minor": 4
}
