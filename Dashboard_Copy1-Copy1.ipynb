{
 "cells": [
  {
   "cell_type": "code",
   "execution_count": 1,
   "metadata": {},
   "outputs": [
    {
     "name": "stdout",
     "output_type": "stream",
     "text": [
      "Setup Complete\n"
     ]
    }
   ],
   "source": [
    "import pandas as pd\n",
    "import numpy as np\n",
    "import plotly.graph_objects as go\n",
    "import plotly.express as px\n",
    "import chart_studio\n",
    "from datetime import datetime\n",
    "print(\"Setup Complete\")"
   ]
  },
  {
   "cell_type": "code",
   "execution_count": 4,
   "metadata": {},
   "outputs": [],
   "source": [
    "username = 'sssalveru' \n",
    "api_key = 'ItyGUSkdSEekUpkKjCyx'\n",
    "chart_studio.tools.set_credentials_file(username=username, api_key=api_key)\n",
    "import chart_studio.plotly as py"
   ]
  },
  {
   "cell_type": "markdown",
   "metadata": {},
   "source": [
    "### Read Data, Add New Columns"
   ]
  },
  {
   "cell_type": "code",
   "execution_count": 5,
   "metadata": {},
   "outputs": [],
   "source": [
    "data = pd.read_csv(\"C:\\\\Users\\\\Sampreeth Salveru\\\\Downloads\\\\AG_Discrete_DS06-Jul-2020.csv\")\n",
    "filter_col = [col for col in data if col.startswith(('Drug','Load'))]\n",
    "\n",
    "data['Date'] = pd.to_datetime(data['PSDate'])\n",
    "data['Date'] = data.Date.dt.strftime('%Y-%m-%d')\n",
    "data['Date'] = data.Date + \"  \" + data.Purif_BatchNbr\n",
    "data['PSDate'] = pd.to_datetime(data['PSDate'])\n",
    "data['Year'] = data['PSDate'].dt.year"
   ]
  },
  {
   "cell_type": "markdown",
   "metadata": {},
   "source": [
    "### Read Limits"
   ]
  },
  {
   "cell_type": "code",
   "execution_count": 6,
   "metadata": {},
   "outputs": [],
   "source": [
    "excel = pd.read_excel(\"C:\\\\Users\\\\Sampreeth Salveru\\\\Downloads\\\\QA.xlsx\",index_col=\"Quality Attributes\")"
   ]
  },
  {
   "cell_type": "markdown",
   "metadata": {},
   "source": [
    "### WECO Rules Functions"
   ]
  },
  {
   "cell_type": "code",
   "execution_count": 7,
   "metadata": {},
   "outputs": [],
   "source": [
    "# WECO Rule 1\n",
    "def weco1(col, ucl, lcl):\n",
    "    if np.isnan(ucl) == False and np.isnan(lcl) == False:\n",
    "        y = np.array(data[col].dropna())\n",
    "        rule1 = np.array([])\n",
    "        for i in range(0,len(y)):\n",
    "            if(y[i] > ucl or y[i] < lcl):\n",
    "                rule1 = np.append(rule1, i)\n",
    "        rule1 = rule1.astype(np.int)\n",
    "        return rule1\n",
    "    elif np.isnan(ucl) == True and np.isnan(lcl) == False:\n",
    "        y = np.array(data[col].dropna())\n",
    "        rule1 = np.array([])\n",
    "        for i in range(0,len(y)):\n",
    "            if(y[i] < lcl):\n",
    "                rule1 = np.append(rule1, i)\n",
    "        rule1 = rule1.astype(np.int)\n",
    "        return rule1\n",
    "    elif np.isnan(ucl) == False and np.isnan(lcl) == True:\n",
    "        y = np.array(data[col].dropna())\n",
    "        rule1 = np.array([])\n",
    "        for i in range(0,len(y)):\n",
    "            if(y[i] > ucl):\n",
    "                rule1 = np.append(rule1, i)\n",
    "        rule1 = rule1.astype(np.int)\n",
    "        return rule1\n",
    "    else: \n",
    "        return []\n",
    "\n",
    "# WECO Rule 4\n",
    "def weco4(col, mean):\n",
    "    if np.isnan(mean) == True:\n",
    "        return []\n",
    "    else:\n",
    "        x = data[col].dropna()\n",
    "        anomalies = x - mean\n",
    "        signs = np.sign(anomalies)\n",
    "        signs = np.array(signs)\n",
    "        A = signs.cumsum()\n",
    "        A[8:] -= A[:-8]\n",
    "        rule4 = (np.abs(A)==8).nonzero()[0]\n",
    "        return rule4\n",
    "\n",
    "# WECO Rule 5\n",
    "def weco5(col):\n",
    "    x = data[col].dropna()\n",
    "    nub = np.sign(np.diff(x)).astype(np.int8)\n",
    "    N = 6\n",
    "    C = nub.cumsum()\n",
    "    C[N:] -= C[:-N]\n",
    "    rule5 =(np.abs(C)==N).nonzero()[0]\n",
    "    return rule5\n"
   ]
  },
  {
   "cell_type": "markdown",
   "metadata": {},
   "source": [
    "### WECO Rule Violation Points Function"
   ]
  },
  {
   "cell_type": "code",
   "execution_count": 8,
   "metadata": {},
   "outputs": [],
   "source": [
    "def make_rules(col,mean,ucl,lcl):\n",
    "    rule1 = weco1(col, ucl, lcl)\n",
    "    rule4 = weco4(col, mean)\n",
    "    rule5 = weco5(col)\n",
    "    if len(rule4) > 0:\n",
    "        fig.add_trace(go.Scatter(x=list(np.array(data.dropna(subset=[col], how = 'any').Date)[rule4]),\n",
    "            y=list(np.array(data[col].dropna())[rule4]),\n",
    "            name = f'Rule 4 Violations = {len(rule4)}',\n",
    "            mode=\"markers\",\n",
    "            marker=dict(color=\"yellow\"),\n",
    "            line = dict(color=\"rgb(82,81,82)\")\n",
    "        ))\n",
    "    if len(rule5) > 0:\n",
    "        fig.add_trace(go.Scatter(x=list(np.array(data.dropna(subset=[col], how = 'any').Date)[rule5]),\n",
    "            y=list(np.array(data[col].dropna())[rule5]),\n",
    "            name = f'Rule 5 Violations = {len(rule5)}',\n",
    "            mode=\"markers\",\n",
    "            marker=dict(color=\"cyan\"),\n",
    "            line = dict(color=\"rgb(82,81,82)\")\n",
    "        ))\n",
    "    if len(rule1) > 0:\n",
    "        fig.add_trace(go.Scatter(x=list(np.array(data.dropna(subset=[col], how = 'any').Date)[rule1]),\n",
    "            y=list(np.array(data[col].dropna())[rule1]),\n",
    "            name = f'Rule 1 Violations = {len(rule1)}',\n",
    "            mode=\"markers\",\n",
    "            marker=dict(color=\"red\"),\n",
    "            line = dict(color=\"rgb(82,81,82)\")\n",
    "        ))\n",
    "\n"
   ]
  },
  {
   "cell_type": "markdown",
   "metadata": {},
   "source": [
    "### Horizontal Lines Function"
   ]
  },
  {
   "cell_type": "code",
   "execution_count": 9,
   "metadata": {},
   "outputs": [],
   "source": [
    "def make_lines(col, mean, ucl, lcl, usl, lsl, action, action1):\n",
    "    if np.isnan(mean) == False:\n",
    "        (fig.add_trace(go.Scatter(\n",
    "                x=list(data.dropna(subset=[col], how = 'any').Date),\n",
    "                y=[mean]*len(data.dropna(subset=[col], how = 'any').Date),\n",
    "                name=\"Mean = \" + str(mean),\n",
    "                hoverinfo = \"skip\",\n",
    "                mode=\"lines\",\n",
    "                line=dict(color=\"black\",width=1.5))))\n",
    "    if np.isnan(lcl) == False:\n",
    "        (fig.add_trace(go.Scatter(\n",
    "                x=list(data.dropna(subset=[col], how = 'any').Date),\n",
    "                y=[lcl]*len(data.dropna(subset=[col], how = 'any').Date),\n",
    "                name=\"LCL = \" + str(lcl),\n",
    "                hoverinfo = \"skip\",\n",
    "                mode=\"lines\",\n",
    "                line=dict(color=\"green\",width=1.5))))\n",
    "    if np.isnan(ucl) == False:\n",
    "        (fig.add_trace(go.Scatter(\n",
    "                x=list(data.dropna(subset=[col], how = 'any').Date),\n",
    "                y=[ucl]*len(data.dropna(subset=[col], how = 'any').Date),\n",
    "                name=\"UCL = \" + str(ucl),\n",
    "                hoverinfo = \"skip\",\n",
    "                mode=\"lines\",\n",
    "                line=dict(color=\"green\",width=1.5))))\n",
    "    if np.isnan(lsl) == False:\n",
    "        (fig.add_trace(go.Scatter(\n",
    "                x=list(data.dropna(subset=[col], how = 'any').Date),\n",
    "                y=[lsl]*len(data.dropna(subset=[col], how = 'any').Date),\n",
    "                name=\"LSL = \" + str(lsl),\n",
    "                hoverinfo = \"skip\",\n",
    "                mode=\"lines\",\n",
    "                line=dict(color=\"red\",width=1.5))))\n",
    "    if np.isnan(usl) == False:\n",
    "        (fig.add_trace(go.Scatter(\n",
    "                x=list(data.dropna(subset=[col], how = 'any').Date),\n",
    "                y=[usl]*len(data.dropna(subset=[col], how = 'any').Date),\n",
    "                name=\"USL = \" + str(usl),\n",
    "                mode=\"lines\",\n",
    "                hoverinfo = \"skip\",\n",
    "                line=dict(color=\"red\",width=1.5))))\n",
    "    if np.isnan(action) == False:\n",
    "        (fig.add_trace(go.Scatter(\n",
    "                x=list(data.dropna(subset=[col], how = 'any').Date),\n",
    "                y=[action]*len(data.dropna(subset=[col], how = 'any').Date),\n",
    "                name=\"Action Limit = \" + str(action),\n",
    "                mode=\"lines\",\n",
    "                hoverinfo = \"skip\",\n",
    "                line=dict(color=\"purple\",width=1.5))))\n",
    "    if np.isnan(action1) == False:\n",
    "        (fig.add_trace(go.Scatter(\n",
    "                x=list(data.dropna(subset=[col], how = 'any').Date),\n",
    "                y=[action1]*len(data.dropna(subset=[col], how = 'any').Date),\n",
    "                name=\"Action Limit = \" + str(action1),\n",
    "                mode=\"lines\",\n",
    "                hoverinfo = \"skip\",\n",
    "                line=dict(color=\"purple\",width=1.5))))\n"
   ]
  },
  {
   "cell_type": "markdown",
   "metadata": {},
   "source": [
    "### Campaign Shading Function"
   ]
  },
  {
   "cell_type": "code",
   "execution_count": 10,
   "metadata": {},
   "outputs": [],
   "source": [
    "def campaigns(col):\n",
    "    y = data.dropna(subset=[col], how = 'any').Year\n",
    "    end = np.array([])\n",
    "    for i in range(1,len(y)):\n",
    "        if y.iloc[i] - y.iloc[i-1] != 0:\n",
    "            end = np.append(end, i)\n",
    "        end = end.astype(np.int)\n",
    "    \n",
    "    beg = 0\n",
    "    shades = list()\n",
    "    end = np.append(end, -1)\n",
    "    colorlist = px.colors.qualitative.Pastel1+px.colors.qualitative.Pastel2\n",
    "    for i in range(0,len(end)):\n",
    "        if i % 2 == 0:\n",
    "            a = dict(type=\"rect\",\n",
    "                    # x-reference is assigned to the x-values\n",
    "                    xref=\"x\",\n",
    "                    # y-reference is assigned to the plot paper [0,1]\n",
    "                    yref=\"paper\",\n",
    "                    x0=(data.dropna(subset=[col], how = 'any').Date).iloc[beg],\n",
    "                    y0=0,\n",
    "                    x1=(data.dropna(subset=[col], how = 'any').Date).iloc[end[i]],\n",
    "                    y1=1,\n",
    "                    fillcolor=colorlist[i],\n",
    "                    opacity=0.5,\n",
    "                    layer=\"below\",\n",
    "                    line_width=0,\n",
    "                    )\n",
    "        else:\n",
    "            a = dict(type=\"rect\",\n",
    "                    # x-reference is assigned to the x-values\n",
    "                    xref=\"x\",\n",
    "                    # y-reference is assigned to the plot paper [0,1]\n",
    "                    yref=\"paper\",\n",
    "                    x0=(data.dropna(subset=[col], how = 'any').Date).iloc[beg],\n",
    "                    y0=0,\n",
    "                    x1=(data.dropna(subset=[col], how = 'any').Date).iloc[end[i]],\n",
    "                    y1=1,\n",
    "                    fillcolor=colorlist[i],\n",
    "                    opacity=0.5,\n",
    "                    layer=\"below\",\n",
    "                    line_width=0,\n",
    "                    )\n",
    "        shades.append(a.copy())\n",
    "        beg = end[i]\n",
    "    return shades"
   ]
  },
  {
   "cell_type": "markdown",
   "metadata": {},
   "source": [
    "### Plot Function"
   ]
  },
  {
   "cell_type": "code",
   "execution_count": 16,
   "metadata": {},
   "outputs": [],
   "source": [
    "fig = go.Figure()\n",
    "\n",
    "def make_graph(col):\n",
    "    mean = excel.loc[col,\"Mean\"]\n",
    "    ucl = excel.loc[col,\"UCL\"]\n",
    "    lcl = excel.loc[col,\"LCL\"]\n",
    "    usl = excel.loc[col,\"USL\"]\n",
    "    lsl = excel.loc[col,\"LSL\"]\n",
    "    action = excel.loc[col,\"Action\"]\n",
    "    action1 = excel.loc[col,\"Action1\"]\n",
    "    units = excel.loc[col,\"Units\"]\n",
    "    \n",
    "    fig.add_trace(go.Scatter(x=list(data.dropna(subset=[col], how = 'any').Date),\n",
    "                         y=list(data[col].dropna()),\n",
    "                         name = col,\n",
    "                         mode=\"lines+markers\",\n",
    "                         line = dict(color=\"black\")\n",
    "                         ))\n",
    "\n",
    "    make_rules(col, mean, ucl, lcl)\n",
    "    make_lines(col,mean, ucl, lcl, usl, lsl, action,action1)\n",
    "\n",
    "    fig.update_xaxes(rangeslider_visible=True)\n",
    "    fig.update_layout(showlegend=True,title_text=\"Kovaltry \" + col+\"  \" + datetime.today().strftime('%Y-%m-%d'),\n",
    "                      plot_bgcolor='rgb(229,229,229)',\n",
    "                      yaxis_title=f\"{col}  {units}\"\n",
    "                     )\n",
    "    fig.update_layout(shapes=campaigns(col))\n",
    "#     fig.write_html(col + \"plot.html\")\n",
    "#     fig.show()\n",
    "    py.plot(fig, filename = col +'plot', auto_open=False)\n",
    "\n",
    "\n",
    "          \n"
   ]
  },
  {
   "cell_type": "code",
   "execution_count": 14,
   "metadata": {},
   "outputs": [],
   "source": [
    "fig = go.Figure()\n",
    "make_graph(filter_col[0])"
   ]
  },
  {
   "cell_type": "markdown",
   "metadata": {},
   "source": [
    "### Create plots for all parameters"
   ]
  },
  {
   "cell_type": "code",
   "execution_count": 17,
   "metadata": {},
   "outputs": [],
   "source": [
    "for x in range(0,len(filter_col)):\n",
    "    fig = go.Figure()\n",
    "    make_graph(filter_col[x])"
   ]
  },
  {
   "cell_type": "code",
   "execution_count": null,
   "metadata": {},
   "outputs": [],
   "source": []
  }
 ],
 "metadata": {
  "kernelspec": {
   "display_name": "Python 3",
   "language": "python",
   "name": "python3"
  },
  "language_info": {
   "codemirror_mode": {
    "name": "ipython",
    "version": 3
   },
   "file_extension": ".py",
   "mimetype": "text/x-python",
   "name": "python",
   "nbconvert_exporter": "python",
   "pygments_lexer": "ipython3",
   "version": "3.7.7"
  }
 },
 "nbformat": 4,
 "nbformat_minor": 4
}
